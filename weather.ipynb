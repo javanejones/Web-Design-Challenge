{
 "metadata": {
  "language_info": {
   "codemirror_mode": {
    "name": "ipython",
    "version": 3
   },
   "file_extension": ".py",
   "mimetype": "text/x-python",
   "name": "python",
   "nbconvert_exporter": "python",
   "pygments_lexer": "ipython3",
   "version": "3.7.6-final"
  },
  "orig_nbformat": 2,
  "kernelspec": {
   "name": "python3",
   "display_name": "Python 3"
  }
 },
 "nbformat": 4,
 "nbformat_minor": 2,
 "cells": [
  {
   "cell_type": "code",
   "execution_count": 2,
   "metadata": {},
   "outputs": [],
   "source": [
    "#import pandas\n",
    "import pandas as pd\n",
    "import numpy as np"
   ]
  },
  {
   "cell_type": "code",
   "execution_count": 25,
   "metadata": {},
   "outputs": [],
   "source": [
    "#Read CSV file\n",
    "df = pd.read_csv('Resources//cities.csv')\n",
    "data = df.head(19)"
   ]
  },
  {
   "cell_type": "code",
   "execution_count": 4,
   "metadata": {
    "tags": []
   },
   "outputs": [
    {
     "output_type": "stream",
     "name": "stdout",
     "text": "<table border=\"1\" class=\"dataframe\">\n  <thead>\n    <tr style=\"text-align: right;\">\n      <th></th>\n      <th>City_ID</th>\n      <th>City</th>\n      <th>Cloudiness</th>\n      <th>Country</th>\n      <th>Date</th>\n      <th>Humidity</th>\n      <th>Lat</th>\n      <th>Lng</th>\n      <th>Max Temp</th>\n      <th>Wind Speed</th>\n    </tr>\n  </thead>\n  <tbody>\n    <tr>\n      <th>0</th>\n      <td>0</td>\n      <td>jacareacanga</td>\n      <td>0</td>\n      <td>BR</td>\n      <td>1528902000</td>\n      <td>62</td>\n      <td>-6.22</td>\n      <td>-57.76</td>\n      <td>89.60</td>\n      <td>6.93</td>\n    </tr>\n    <tr>\n      <th>1</th>\n      <td>1</td>\n      <td>kaitangata</td>\n      <td>100</td>\n      <td>NZ</td>\n      <td>1528905304</td>\n      <td>94</td>\n      <td>-46.28</td>\n      <td>169.85</td>\n      <td>42.61</td>\n      <td>5.64</td>\n    </tr>\n    <tr>\n      <th>2</th>\n      <td>2</td>\n      <td>goulburn</td>\n      <td>20</td>\n      <td>AU</td>\n      <td>1528905078</td>\n      <td>91</td>\n      <td>-34.75</td>\n      <td>149.72</td>\n      <td>44.32</td>\n      <td>10.11</td>\n    </tr>\n    <tr>\n      <th>3</th>\n      <td>3</td>\n      <td>lata</td>\n      <td>76</td>\n      <td>IN</td>\n      <td>1528905305</td>\n      <td>89</td>\n      <td>30.78</td>\n      <td>78.62</td>\n      <td>59.89</td>\n      <td>0.94</td>\n    </tr>\n    <tr>\n      <th>4</th>\n      <td>4</td>\n      <td>chokurdakh</td>\n      <td>0</td>\n      <td>RU</td>\n      <td>1528905306</td>\n      <td>88</td>\n      <td>70.62</td>\n      <td>147.90</td>\n      <td>32.17</td>\n      <td>2.95</td>\n    </tr>\n    <tr>\n      <th>5</th>\n      <td>5</td>\n      <td>martyush</td>\n      <td>92</td>\n      <td>RU</td>\n      <td>1528905306</td>\n      <td>94</td>\n      <td>56.40</td>\n      <td>61.89</td>\n      <td>55.03</td>\n      <td>9.33</td>\n    </tr>\n    <tr>\n      <th>6</th>\n      <td>6</td>\n      <td>hobart</td>\n      <td>20</td>\n      <td>AU</td>\n      <td>1528902000</td>\n      <td>87</td>\n      <td>-42.88</td>\n      <td>147.33</td>\n      <td>44.60</td>\n      <td>8.05</td>\n    </tr>\n    <tr>\n      <th>7</th>\n      <td>7</td>\n      <td>broken hill</td>\n      <td>0</td>\n      <td>AU</td>\n      <td>1528905311</td>\n      <td>88</td>\n      <td>-31.97</td>\n      <td>141.45</td>\n      <td>44.50</td>\n      <td>7.31</td>\n    </tr>\n    <tr>\n      <th>8</th>\n      <td>8</td>\n      <td>harnosand</td>\n      <td>0</td>\n      <td>SE</td>\n      <td>1528903200</td>\n      <td>44</td>\n      <td>62.63</td>\n      <td>17.94</td>\n      <td>60.80</td>\n      <td>13.87</td>\n    </tr>\n    <tr>\n      <th>9</th>\n      <td>9</td>\n      <td>tuatapere</td>\n      <td>0</td>\n      <td>NZ</td>\n      <td>1528905312</td>\n      <td>100</td>\n      <td>-46.13</td>\n      <td>167.69</td>\n      <td>38.92</td>\n      <td>3.40</td>\n    </tr>\n    <tr>\n      <th>10</th>\n      <td>10</td>\n      <td>puerto ayora</td>\n      <td>90</td>\n      <td>EC</td>\n      <td>1528902000</td>\n      <td>69</td>\n      <td>-0.74</td>\n      <td>-90.35</td>\n      <td>77.00</td>\n      <td>13.87</td>\n    </tr>\n    <tr>\n      <th>11</th>\n      <td>11</td>\n      <td>havre-saint-pierre</td>\n      <td>75</td>\n      <td>CA</td>\n      <td>1528902000</td>\n      <td>58</td>\n      <td>50.23</td>\n      <td>-63.60</td>\n      <td>53.60</td>\n      <td>19.46</td>\n    </tr>\n    <tr>\n      <th>12</th>\n      <td>12</td>\n      <td>punta arenas</td>\n      <td>0</td>\n      <td>CL</td>\n      <td>1528902000</td>\n      <td>100</td>\n      <td>-53.16</td>\n      <td>-70.91</td>\n      <td>35.60</td>\n      <td>9.17</td>\n    </tr>\n    <tr>\n      <th>13</th>\n      <td>13</td>\n      <td>tasiilaq</td>\n      <td>75</td>\n      <td>GL</td>\n      <td>1528901400</td>\n      <td>60</td>\n      <td>65.61</td>\n      <td>-37.64</td>\n      <td>39.20</td>\n      <td>2.24</td>\n    </tr>\n    <tr>\n      <th>14</th>\n      <td>14</td>\n      <td>chapais</td>\n      <td>40</td>\n      <td>CA</td>\n      <td>1528902000</td>\n      <td>38</td>\n      <td>49.78</td>\n      <td>-74.86</td>\n      <td>59.00</td>\n      <td>10.29</td>\n    </tr>\n    <tr>\n      <th>15</th>\n      <td>15</td>\n      <td>avarua</td>\n      <td>40</td>\n      <td>CK</td>\n      <td>1528902000</td>\n      <td>56</td>\n      <td>-21.21</td>\n      <td>-159.78</td>\n      <td>73.40</td>\n      <td>10.29</td>\n    </tr>\n    <tr>\n      <th>16</th>\n      <td>16</td>\n      <td>hofn</td>\n      <td>75</td>\n      <td>IS</td>\n      <td>1528902000</td>\n      <td>87</td>\n      <td>64.25</td>\n      <td>-15.21</td>\n      <td>51.80</td>\n      <td>8.05</td>\n    </tr>\n    <tr>\n      <th>17</th>\n      <td>17</td>\n      <td>yukamenskoye</td>\n      <td>92</td>\n      <td>RU</td>\n      <td>1528905315</td>\n      <td>98</td>\n      <td>57.89</td>\n      <td>52.24</td>\n      <td>56.65</td>\n      <td>10.22</td>\n    </tr>\n    <tr>\n      <th>18</th>\n      <td>18</td>\n      <td>khandbari</td>\n      <td>80</td>\n      <td>NP</td>\n      <td>1528905315</td>\n      <td>67</td>\n      <td>27.38</td>\n      <td>87.21</td>\n      <td>44.59</td>\n      <td>1.39</td>\n    </tr>\n  </tbody>\n</table>\n"
    }
   ],
   "source": [
    "#Display HTML data\n",
    "weather = data.to_html()\n",
    "print(weather)"
   ]
  },
  {
   "cell_type": "code",
   "execution_count": 28,
   "metadata": {},
   "outputs": [
    {
     "output_type": "execute_result",
     "data": {
      "text/plain": "     City_ID          City  Cloudiness Country        Date  Humidity    Lat  \\\n0          0  jacareacanga           0      BR  1528902000        62  -6.22   \n1          1    kaitangata         100      NZ  1528905304        94 -46.28   \n2          2      goulburn          20      AU  1528905078        91 -34.75   \n3          3          lata          76      IN  1528905305        89  30.78   \n4          4    chokurdakh           0      RU  1528905306        88  70.62   \n..       ...           ...         ...     ...         ...       ...    ...   \n542      542        scalea          36      IT  1528905631       100  39.82   \n543      543    san andres          68      PH  1528905632       100  13.32   \n544      544        muisne          92      EC  1528905633        84   0.61   \n545      545           ati          20      TD  1528905633        25  13.21   \n546      546      san luis           0      AR  1528905472        53 -33.30   \n\n        Lng  Max Temp  Wind Speed  \n0    -57.76     89.60        6.93  \n1    169.85     42.61        5.64  \n2    149.72     44.32       10.11  \n3     78.62     59.89        0.94  \n4    147.90     32.17        2.95  \n..      ...       ...         ...  \n542   15.79     70.06        5.30  \n543  122.68     83.47       22.64  \n544  -80.02     76.90        4.63  \n545   18.34    104.53        4.97  \n546  -66.34     42.43        2.62  \n\n[547 rows x 10 columns]",
      "text/html": "<div>\n<style scoped>\n    .dataframe tbody tr th:only-of-type {\n        vertical-align: middle;\n    }\n\n    .dataframe tbody tr th {\n        vertical-align: top;\n    }\n\n    .dataframe thead th {\n        text-align: right;\n    }\n</style>\n<table border=\"1\" class=\"dataframe\">\n  <thead>\n    <tr style=\"text-align: right;\">\n      <th></th>\n      <th>City_ID</th>\n      <th>City</th>\n      <th>Cloudiness</th>\n      <th>Country</th>\n      <th>Date</th>\n      <th>Humidity</th>\n      <th>Lat</th>\n      <th>Lng</th>\n      <th>Max Temp</th>\n      <th>Wind Speed</th>\n    </tr>\n  </thead>\n  <tbody>\n    <tr>\n      <th>0</th>\n      <td>0</td>\n      <td>jacareacanga</td>\n      <td>0</td>\n      <td>BR</td>\n      <td>1528902000</td>\n      <td>62</td>\n      <td>-6.22</td>\n      <td>-57.76</td>\n      <td>89.60</td>\n      <td>6.93</td>\n    </tr>\n    <tr>\n      <th>1</th>\n      <td>1</td>\n      <td>kaitangata</td>\n      <td>100</td>\n      <td>NZ</td>\n      <td>1528905304</td>\n      <td>94</td>\n      <td>-46.28</td>\n      <td>169.85</td>\n      <td>42.61</td>\n      <td>5.64</td>\n    </tr>\n    <tr>\n      <th>2</th>\n      <td>2</td>\n      <td>goulburn</td>\n      <td>20</td>\n      <td>AU</td>\n      <td>1528905078</td>\n      <td>91</td>\n      <td>-34.75</td>\n      <td>149.72</td>\n      <td>44.32</td>\n      <td>10.11</td>\n    </tr>\n    <tr>\n      <th>3</th>\n      <td>3</td>\n      <td>lata</td>\n      <td>76</td>\n      <td>IN</td>\n      <td>1528905305</td>\n      <td>89</td>\n      <td>30.78</td>\n      <td>78.62</td>\n      <td>59.89</td>\n      <td>0.94</td>\n    </tr>\n    <tr>\n      <th>4</th>\n      <td>4</td>\n      <td>chokurdakh</td>\n      <td>0</td>\n      <td>RU</td>\n      <td>1528905306</td>\n      <td>88</td>\n      <td>70.62</td>\n      <td>147.90</td>\n      <td>32.17</td>\n      <td>2.95</td>\n    </tr>\n    <tr>\n      <th>...</th>\n      <td>...</td>\n      <td>...</td>\n      <td>...</td>\n      <td>...</td>\n      <td>...</td>\n      <td>...</td>\n      <td>...</td>\n      <td>...</td>\n      <td>...</td>\n      <td>...</td>\n    </tr>\n    <tr>\n      <th>542</th>\n      <td>542</td>\n      <td>scalea</td>\n      <td>36</td>\n      <td>IT</td>\n      <td>1528905631</td>\n      <td>100</td>\n      <td>39.82</td>\n      <td>15.79</td>\n      <td>70.06</td>\n      <td>5.30</td>\n    </tr>\n    <tr>\n      <th>543</th>\n      <td>543</td>\n      <td>san andres</td>\n      <td>68</td>\n      <td>PH</td>\n      <td>1528905632</td>\n      <td>100</td>\n      <td>13.32</td>\n      <td>122.68</td>\n      <td>83.47</td>\n      <td>22.64</td>\n    </tr>\n    <tr>\n      <th>544</th>\n      <td>544</td>\n      <td>muisne</td>\n      <td>92</td>\n      <td>EC</td>\n      <td>1528905633</td>\n      <td>84</td>\n      <td>0.61</td>\n      <td>-80.02</td>\n      <td>76.90</td>\n      <td>4.63</td>\n    </tr>\n    <tr>\n      <th>545</th>\n      <td>545</td>\n      <td>ati</td>\n      <td>20</td>\n      <td>TD</td>\n      <td>1528905633</td>\n      <td>25</td>\n      <td>13.21</td>\n      <td>18.34</td>\n      <td>104.53</td>\n      <td>4.97</td>\n    </tr>\n    <tr>\n      <th>546</th>\n      <td>546</td>\n      <td>san luis</td>\n      <td>0</td>\n      <td>AR</td>\n      <td>1528905472</td>\n      <td>53</td>\n      <td>-33.30</td>\n      <td>-66.34</td>\n      <td>42.43</td>\n      <td>2.62</td>\n    </tr>\n  </tbody>\n</table>\n<p>547 rows × 10 columns</p>\n</div>"
     },
     "metadata": {},
     "execution_count": 28
    }
   ],
   "source": [
    "df"
   ]
  },
  {
   "cell_type": "code",
   "execution_count": 32,
   "metadata": {},
   "outputs": [
    {
     "output_type": "error",
     "ename": "KeyError",
     "evalue": "\"None of ['City_ID'] are in the columns\"",
     "traceback": [
      "\u001b[1;31m---------------------------------------------------------------------------\u001b[0m",
      "\u001b[1;31mKeyError\u001b[0m                                  Traceback (most recent call last)",
      "\u001b[1;32m<ipython-input-32-b2df025f46d0>\u001b[0m in \u001b[0;36m<module>\u001b[1;34m\u001b[0m\n\u001b[1;32m----> 1\u001b[1;33m \u001b[0mdf\u001b[0m\u001b[1;33m.\u001b[0m\u001b[0mset_index\u001b[0m\u001b[1;33m(\u001b[0m\u001b[1;34m\"City_ID\"\u001b[0m\u001b[1;33m,\u001b[0m \u001b[0minplace\u001b[0m\u001b[1;33m=\u001b[0m\u001b[1;32mTrue\u001b[0m\u001b[1;33m)\u001b[0m\u001b[1;33m\u001b[0m\u001b[1;33m\u001b[0m\u001b[0m\n\u001b[0m",
      "\u001b[1;32m~\\Documents\\New folder\\lib\\site-packages\\pandas\\core\\frame.py\u001b[0m in \u001b[0;36mset_index\u001b[1;34m(self, keys, drop, append, inplace, verify_integrity)\u001b[0m\n\u001b[0;32m   4301\u001b[0m \u001b[1;33m\u001b[0m\u001b[0m\n\u001b[0;32m   4302\u001b[0m         \u001b[1;32mif\u001b[0m \u001b[0mmissing\u001b[0m\u001b[1;33m:\u001b[0m\u001b[1;33m\u001b[0m\u001b[1;33m\u001b[0m\u001b[0m\n\u001b[1;32m-> 4303\u001b[1;33m             \u001b[1;32mraise\u001b[0m \u001b[0mKeyError\u001b[0m\u001b[1;33m(\u001b[0m\u001b[1;34mf\"None of {missing} are in the columns\"\u001b[0m\u001b[1;33m)\u001b[0m\u001b[1;33m\u001b[0m\u001b[1;33m\u001b[0m\u001b[0m\n\u001b[0m\u001b[0;32m   4304\u001b[0m \u001b[1;33m\u001b[0m\u001b[0m\n\u001b[0;32m   4305\u001b[0m         \u001b[1;32mif\u001b[0m \u001b[0minplace\u001b[0m\u001b[1;33m:\u001b[0m\u001b[1;33m\u001b[0m\u001b[1;33m\u001b[0m\u001b[0m\n",
      "\u001b[1;31mKeyError\u001b[0m: \"None of ['City_ID'] are in the columns\""
     ]
    }
   ],
   "source": [
    "df.set_index(\"City_ID\", inplace=True)"
   ]
  },
  {
   "cell_type": "code",
   "execution_count": 33,
   "metadata": {},
   "outputs": [
    {
     "output_type": "execute_result",
     "data": {
      "text/plain": "                 City  Cloudiness Country        Date  Humidity    Lat  \\\nCity_ID                                                                  \n0        jacareacanga           0      BR  1528902000        62  -6.22   \n1          kaitangata         100      NZ  1528905304        94 -46.28   \n2            goulburn          20      AU  1528905078        91 -34.75   \n3                lata          76      IN  1528905305        89  30.78   \n4          chokurdakh           0      RU  1528905306        88  70.62   \n...               ...         ...     ...         ...       ...    ...   \n542            scalea          36      IT  1528905631       100  39.82   \n543        san andres          68      PH  1528905632       100  13.32   \n544            muisne          92      EC  1528905633        84   0.61   \n545               ati          20      TD  1528905633        25  13.21   \n546          san luis           0      AR  1528905472        53 -33.30   \n\n            Lng  Max Temp  Wind Speed  \nCity_ID                                \n0        -57.76     89.60        6.93  \n1        169.85     42.61        5.64  \n2        149.72     44.32       10.11  \n3         78.62     59.89        0.94  \n4        147.90     32.17        2.95  \n...         ...       ...         ...  \n542       15.79     70.06        5.30  \n543      122.68     83.47       22.64  \n544      -80.02     76.90        4.63  \n545       18.34    104.53        4.97  \n546      -66.34     42.43        2.62  \n\n[547 rows x 9 columns]",
      "text/html": "<div>\n<style scoped>\n    .dataframe tbody tr th:only-of-type {\n        vertical-align: middle;\n    }\n\n    .dataframe tbody tr th {\n        vertical-align: top;\n    }\n\n    .dataframe thead th {\n        text-align: right;\n    }\n</style>\n<table border=\"1\" class=\"dataframe\">\n  <thead>\n    <tr style=\"text-align: right;\">\n      <th></th>\n      <th>City</th>\n      <th>Cloudiness</th>\n      <th>Country</th>\n      <th>Date</th>\n      <th>Humidity</th>\n      <th>Lat</th>\n      <th>Lng</th>\n      <th>Max Temp</th>\n      <th>Wind Speed</th>\n    </tr>\n    <tr>\n      <th>City_ID</th>\n      <th></th>\n      <th></th>\n      <th></th>\n      <th></th>\n      <th></th>\n      <th></th>\n      <th></th>\n      <th></th>\n      <th></th>\n    </tr>\n  </thead>\n  <tbody>\n    <tr>\n      <th>0</th>\n      <td>jacareacanga</td>\n      <td>0</td>\n      <td>BR</td>\n      <td>1528902000</td>\n      <td>62</td>\n      <td>-6.22</td>\n      <td>-57.76</td>\n      <td>89.60</td>\n      <td>6.93</td>\n    </tr>\n    <tr>\n      <th>1</th>\n      <td>kaitangata</td>\n      <td>100</td>\n      <td>NZ</td>\n      <td>1528905304</td>\n      <td>94</td>\n      <td>-46.28</td>\n      <td>169.85</td>\n      <td>42.61</td>\n      <td>5.64</td>\n    </tr>\n    <tr>\n      <th>2</th>\n      <td>goulburn</td>\n      <td>20</td>\n      <td>AU</td>\n      <td>1528905078</td>\n      <td>91</td>\n      <td>-34.75</td>\n      <td>149.72</td>\n      <td>44.32</td>\n      <td>10.11</td>\n    </tr>\n    <tr>\n      <th>3</th>\n      <td>lata</td>\n      <td>76</td>\n      <td>IN</td>\n      <td>1528905305</td>\n      <td>89</td>\n      <td>30.78</td>\n      <td>78.62</td>\n      <td>59.89</td>\n      <td>0.94</td>\n    </tr>\n    <tr>\n      <th>4</th>\n      <td>chokurdakh</td>\n      <td>0</td>\n      <td>RU</td>\n      <td>1528905306</td>\n      <td>88</td>\n      <td>70.62</td>\n      <td>147.90</td>\n      <td>32.17</td>\n      <td>2.95</td>\n    </tr>\n    <tr>\n      <th>...</th>\n      <td>...</td>\n      <td>...</td>\n      <td>...</td>\n      <td>...</td>\n      <td>...</td>\n      <td>...</td>\n      <td>...</td>\n      <td>...</td>\n      <td>...</td>\n    </tr>\n    <tr>\n      <th>542</th>\n      <td>scalea</td>\n      <td>36</td>\n      <td>IT</td>\n      <td>1528905631</td>\n      <td>100</td>\n      <td>39.82</td>\n      <td>15.79</td>\n      <td>70.06</td>\n      <td>5.30</td>\n    </tr>\n    <tr>\n      <th>543</th>\n      <td>san andres</td>\n      <td>68</td>\n      <td>PH</td>\n      <td>1528905632</td>\n      <td>100</td>\n      <td>13.32</td>\n      <td>122.68</td>\n      <td>83.47</td>\n      <td>22.64</td>\n    </tr>\n    <tr>\n      <th>544</th>\n      <td>muisne</td>\n      <td>92</td>\n      <td>EC</td>\n      <td>1528905633</td>\n      <td>84</td>\n      <td>0.61</td>\n      <td>-80.02</td>\n      <td>76.90</td>\n      <td>4.63</td>\n    </tr>\n    <tr>\n      <th>545</th>\n      <td>ati</td>\n      <td>20</td>\n      <td>TD</td>\n      <td>1528905633</td>\n      <td>25</td>\n      <td>13.21</td>\n      <td>18.34</td>\n      <td>104.53</td>\n      <td>4.97</td>\n    </tr>\n    <tr>\n      <th>546</th>\n      <td>san luis</td>\n      <td>0</td>\n      <td>AR</td>\n      <td>1528905472</td>\n      <td>53</td>\n      <td>-33.30</td>\n      <td>-66.34</td>\n      <td>42.43</td>\n      <td>2.62</td>\n    </tr>\n  </tbody>\n</table>\n<p>547 rows × 9 columns</p>\n</div>"
     },
     "metadata": {},
     "execution_count": 33
    }
   ],
   "source": [
    "df"
   ]
  },
  {
   "cell_type": "code",
   "execution_count": 34,
   "metadata": {
    "tags": []
   },
   "outputs": [],
   "source": [
    "#Display all data\n",
    "df.to_html('Da.html')"
   ]
  },
  {
   "cell_type": "code",
   "execution_count": null,
   "metadata": {},
   "outputs": [],
   "source": []
  }
 ]
}